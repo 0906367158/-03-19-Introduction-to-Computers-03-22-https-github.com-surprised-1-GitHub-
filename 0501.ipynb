{
  "nbformat": 4,
  "nbformat_minor": 0,
  "metadata": {
    "colab": {
      "provenance": [],
      "authorship_tag": "ABX9TyNflq2KJjXp3cPzLbVZC45Y",
      "include_colab_link": true
    },
    "kernelspec": {
      "name": "python3",
      "display_name": "Python 3"
    },
    "language_info": {
      "name": "python"
    }
  },
  "cells": [
    {
      "cell_type": "markdown",
      "metadata": {
        "id": "view-in-github",
        "colab_type": "text"
      },
      "source": [
        "<a href=\"https://colab.research.google.com/github/0906367158/-03-19-Introduction-to-Computers-03-22-https-github.com-surprised-1-GitHub-/blob/main/0501.ipynb\" target=\"_parent\"><img src=\"https://colab.research.google.com/assets/colab-badge.svg\" alt=\"Open In Colab\"/></a>"
      ]
    },
    {
      "cell_type": "code",
      "source": [
        "i = int(input(\"請輸入本金存款:\"))\n",
        "y = 1.02 ** 6\n",
        "a = i * y\n",
        "print(\"6年後存款為:\" , a)"
      ],
      "metadata": {
        "colab": {
          "base_uri": "https://localhost:8080/"
        },
        "id": "rZ0FJCc4UL_W",
        "outputId": "c8d1e032-ed40-4e1e-d1a3-557422aa631a"
      },
      "execution_count": 6,
      "outputs": [
        {
          "output_type": "stream",
          "name": "stdout",
          "text": [
            "請輸入本金存款:10000\n",
            "6年後存款為: 11261.62419264\n"
          ]
        }
      ]
    }
  ]
}
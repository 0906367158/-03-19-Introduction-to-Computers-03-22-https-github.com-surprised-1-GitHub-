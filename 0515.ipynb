{
  "nbformat": 4,
  "nbformat_minor": 0,
  "metadata": {
    "colab": {
      "provenance": [],
      "authorship_tag": "ABX9TyNQ90TcEUgoGxX8f6owDn83",
      "include_colab_link": true
    },
    "kernelspec": {
      "name": "python3",
      "display_name": "Python 3"
    },
    "language_info": {
      "name": "python"
    }
  },
  "cells": [
    {
      "cell_type": "markdown",
      "metadata": {
        "id": "view-in-github",
        "colab_type": "text"
      },
      "source": [
        "<a href=\"https://colab.research.google.com/github/0906367158/-03-19-Introduction-to-Computers-03-22-https-github.com-surprised-1-GitHub-/blob/main/0515.ipynb\" target=\"_parent\"><img src=\"https://colab.research.google.com/assets/colab-badge.svg\" alt=\"Open In Colab\"/></a>"
      ]
    },
    {
      "cell_type": "code",
      "execution_count": 1,
      "metadata": {
        "colab": {
          "base_uri": "https://localhost:8080/"
        },
        "id": "wUjOvgqEwUN0",
        "outputId": "9c2e613c-f0cc-4344-805b-693ecedfac70"
      },
      "outputs": [
        {
          "output_type": "stream",
          "name": "stdout",
          "text": [
            "0515\n"
          ]
        }
      ],
      "source": [
        "print(\"0515\")"
      ]
    },
    {
      "cell_type": "code",
      "source": [
        "rain = input(\"今天會下雨嗎\")\n",
        "if(rain == \"Y\" or rain == \"y\"):\n",
        "  print(\"出門記得帶傘\")\n",
        "elif(rain == \"N\" or rain == \"n\"):\n",
        "  print(\"出門不用帶傘\")\n",
        "else:\n",
        "  print(\"請重新輸入\")"
      ],
      "metadata": {
        "colab": {
          "base_uri": "https://localhost:8080/"
        },
        "id": "6l6pLdhFwhFG",
        "outputId": "8bfdd793-ceb6-4ded-bc3c-ad8c966dd4ba"
      },
      "execution_count": 2,
      "outputs": [
        {
          "output_type": "stream",
          "name": "stdout",
          "text": [
            "今天會下雨嗎n\n",
            "出門不用帶傘\n"
          ]
        }
      ]
    },
    {
      "cell_type": "code",
      "source": [
        "TW = float(input(\"請輸入您的體溫\"))\n",
        "if TW >= 37.5 :\n",
        "  print(\"體溫過高!\")\n",
        "elif TW >= 37 :\n",
        "  print(\"體溫略高!\")\n",
        "elif TW >= 34 :\n",
        "  print(\"體溫正常!\")\n",
        "else:\n",
        "  print(\"體溫異常,請重新測量!\")"
      ],
      "metadata": {
        "colab": {
          "base_uri": "https://localhost:8080/"
        },
        "id": "e4gDrXNvxOy-",
        "outputId": "6bec8a97-0284-4996-8d4b-d7a88976a1ce"
      },
      "execution_count": 3,
      "outputs": [
        {
          "output_type": "stream",
          "name": "stdout",
          "text": [
            "請輸入您的體溫36.5\n",
            "體溫正常!\n"
          ]
        }
      ]
    },
    {
      "cell_type": "code",
      "source": [
        "score = int(input(\"請輸入你的成績\"))\n",
        "if score >= 90 :\n",
        "  print(\"A\")\n",
        "elif score >= 80 :\n",
        "  print(\"B\")\n",
        "elif score >= 70 :\n",
        "  print(\"C\")\n",
        "elif score >= 60 :\n",
        "  print(\"D\")\n",
        "else:\n",
        "  print(\"E\")"
      ],
      "metadata": {
        "colab": {
          "base_uri": "https://localhost:8080/"
        },
        "id": "A3yQhWqjyU6K",
        "outputId": "99466aa1-9cba-487c-cb02-d089e5139df9"
      },
      "execution_count": 4,
      "outputs": [
        {
          "output_type": "stream",
          "name": "stdout",
          "text": [
            "請輸入你的成績77\n",
            "C\n"
          ]
        }
      ]
    },
    {
      "cell_type": "code",
      "source": [
        "season = int(input(\"請輸入月份\"))\n",
        "if (season == 3 or season == 4 or season == 5) :\n",
        "  print(season , \"月是春天!\")\n",
        "elif (season == 6 or season == 7 or season == 8) :\n",
        "  print(season , \"月是夏天!\")\n",
        "elif (season == 9 or season == 10 or season == 11) :\n",
        "  print(season , \"月是秋天!\")\n",
        "elif (season == 12 or season == 1 or season == 2) :\n",
        "  print(season , \"月是冬天!\")\n",
        "else:\n",
        "  print(\"月份不再範圍內!\")"
      ],
      "metadata": {
        "colab": {
          "base_uri": "https://localhost:8080/"
        },
        "id": "ROopICWkzB-U",
        "outputId": "8d0f5d13-e240-4f3f-818a-2b1fc462e391"
      },
      "execution_count": 5,
      "outputs": [
        {
          "output_type": "stream",
          "name": "stdout",
          "text": [
            "請輸入月份5\n",
            "5 月是春天!\n"
          ]
        }
      ]
    },
    {
      "cell_type": "code",
      "source": [
        "x = int(input(\"請輸入今年收入淨額\"))\n",
        "if x >= 2000000 :\n",
        "  print(\"賦稅金額:\", x * 0.3 , \"元\")\n",
        "elif x >= 1000000 :\n",
        "  print(\"賦稅金額:\", x * 0.21 , \"元\")\n",
        "elif x >= 600000 :\n",
        "  print(\"賦稅金額:\", x * 0.13 , \"元\")\n",
        "elif x >= 300000 :\n",
        "  print(\"賦稅金額:\", x * 0.06 , \"元\")\n",
        "else:\n",
        "  print(\"賦稅金額: 0 元\")\n",
        "\n",
        "\n",
        "  "
      ],
      "metadata": {
        "colab": {
          "base_uri": "https://localhost:8080/"
        },
        "id": "AktSt_Td0WLP",
        "outputId": "548c4845-586c-444a-a8eb-7d729d326d54"
      },
      "execution_count": 7,
      "outputs": [
        {
          "output_type": "stream",
          "name": "stdout",
          "text": [
            "請輸入今年收入淨額2500000\n",
            "賦稅金額: 750000.0 元\n"
          ]
        }
      ]
    }
  ]
}
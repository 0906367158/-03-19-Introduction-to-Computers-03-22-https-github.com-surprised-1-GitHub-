{
  "nbformat": 4,
  "nbformat_minor": 0,
  "metadata": {
    "colab": {
      "provenance": [],
      "authorship_tag": "ABX9TyPOh2WK8n3AdToDavuVBoLL",
      "include_colab_link": true
    },
    "kernelspec": {
      "name": "python3",
      "display_name": "Python 3"
    },
    "language_info": {
      "name": "python"
    }
  },
  "cells": [
    {
      "cell_type": "markdown",
      "metadata": {
        "id": "view-in-github",
        "colab_type": "text"
      },
      "source": [
        "<a href=\"https://colab.research.google.com/github/0906367158/-03-19-Introduction-to-Computers-03-22-https-github.com-surprised-1-GitHub-/blob/main/Untitled5.ipynb\" target=\"_parent\"><img src=\"https://colab.research.google.com/assets/colab-badge.svg\" alt=\"Open In Colab\"/></a>"
      ]
    },
    {
      "cell_type": "code",
      "execution_count": 2,
      "metadata": {
        "colab": {
          "base_uri": "https://localhost:8080/"
        },
        "id": "_5wqmo1OiT3L",
        "outputId": "a14389b9-3165-4ef2-a8af-2e6ba51d7657"
      },
      "outputs": [
        {
          "output_type": "stream",
          "name": "stdout",
          "text": [
            "請輸入一個正整數10\n",
            "1到 10 的整數合為 55\n"
          ]
        }
      ],
      "source": [
        "a = int(input(\"請輸入一個正整數\"))\n",
        "sum = 0\n",
        "for n in range(1,a+1):\n",
        "  sum = sum+n\n",
        "print(\"1到\",a,\"的整數合為\",sum)"
      ]
    },
    {
      "cell_type": "code",
      "source": [
        "a = int(input(\"請輸入一個正整數\"))\n",
        "sum = 0\n",
        "for n in range(1,a+1):\n",
        "  sum=sum+n\n",
        "print(\"1到\",a,\"的整數和\",sum)"
      ],
      "metadata": {
        "colab": {
          "base_uri": "https://localhost:8080/"
        },
        "id": "63ymuB3kit94",
        "outputId": "32e9cf98-1bfd-412f-de05-1e2a5f8e3d46"
      },
      "execution_count": 3,
      "outputs": [
        {
          "output_type": "stream",
          "name": "stdout",
          "text": [
            "請輸入一個正整數10\n",
            "1到 10 的整數和 55\n"
          ]
        }
      ]
    },
    {
      "cell_type": "code",
      "source": [
        "season = int(input(\"請輸入月份:\"))\n",
        "if (season == 1 or season == 2 or season == 3):\n",
        "  print(season, \"月份是春天\")\n",
        "elif (season == 4 or season == 5 or season == 6):\n",
        "  print(season, \"月份是夏天\")\n",
        "elif (season == 7 or season == 8 or season == 9):\n",
        "  print(season, \"月份是秋天\")\n",
        "elif (season == 10 or season == 11 or season == 12):\n",
        "  print(season, \"月份是冬天\")\n",
        "else:\n",
        "  print(\"輸入錯誤\")"
      ],
      "metadata": {
        "colab": {
          "base_uri": "https://localhost:8080/"
        },
        "id": "Yrl68wQ7joWB",
        "outputId": "f69f0511-81c8-43f8-82b3-98f42eb151ca"
      },
      "execution_count": 7,
      "outputs": [
        {
          "output_type": "stream",
          "name": "stdout",
          "text": [
            "請輸入月份:77\n",
            "輸入錯誤\n"
          ]
        }
      ]
    },
    {
      "cell_type": "code",
      "source": [
        "sum = 0\n",
        "for n in range(5,300+1):\n",
        "  sum=sum+n\n",
        "print(5,\"到\",300,\"的數字總和\",sum)"
      ],
      "metadata": {
        "colab": {
          "base_uri": "https://localhost:8080/"
        },
        "id": "fHWjUuCGkqdL",
        "outputId": "33e9c5a9-8bb7-43b2-9442-02eefee0553a"
      },
      "execution_count": 29,
      "outputs": [
        {
          "output_type": "stream",
          "name": "stdout",
          "text": [
            "5 到 300 的數字總和 45140\n"
          ]
        }
      ]
    },
    {
      "cell_type": "code",
      "source": [
        "a = int(input(\"請輸入300:\"))\n",
        "sum=0\n",
        "for n in range(5,a+1):\n",
        "  sum = sum+n\n",
        "print(5,\"到\",300,\"的整數和\",sum)"
      ],
      "metadata": {
        "colab": {
          "base_uri": "https://localhost:8080/"
        },
        "id": "zNsKUfG7lnO7",
        "outputId": "3be69215-ccfa-44af-b94a-b55cceb07f62"
      },
      "execution_count": 30,
      "outputs": [
        {
          "output_type": "stream",
          "name": "stdout",
          "text": [
            "請輸入300:300\n",
            "5 到 300 的整數和 45140\n"
          ]
        }
      ]
    },
    {
      "cell_type": "code",
      "source": [
        "a = int(input(\"請輸入大於20的整數:\"))\n",
        "sum = 0\n",
        "if a<=20:\n",
        "  print(\"type error\")\n",
        "elif a>20:\n",
        "  for n in range(20+1,a+1,2):\n",
        "    sum=sum+n\n",
        "  print(\"奇數總和為:\",sum)"
      ],
      "metadata": {
        "colab": {
          "base_uri": "https://localhost:8080/"
        },
        "id": "-6_2fKkrmJZQ",
        "outputId": "7385bb1b-9735-4c20-9b5d-0c3b9d19c5f3"
      },
      "execution_count": 37,
      "outputs": [
        {
          "output_type": "stream",
          "name": "stdout",
          "text": [
            "請輸入大於20的整數:30\n",
            "奇數總和為: 125\n"
          ]
        }
      ]
    },
    {
      "cell_type": "code",
      "source": [],
      "metadata": {
        "id": "vEPtu0GTrR-7"
      },
      "execution_count": null,
      "outputs": []
    },
    {
      "cell_type": "code",
      "source": [
        "t = int(input(\"請輸入一個整數:\"))\n",
        "if t>=2000000:\n",
        "  print(round(t*0.3,2))\n",
        "elif t>=1000000:\n",
        "  print(round(t*0.21,2))\n",
        "elif t>=600000:\n",
        "  print(round(t*0.13,2))\n",
        "elif t>=300000:\n",
        "  print(round(t*0.06,2))\n",
        "else:\n",
        "  print(\"輸入錯誤\")"
      ],
      "metadata": {
        "colab": {
          "base_uri": "https://localhost:8080/"
        },
        "id": "G7gMt2kMn2Lt",
        "outputId": "24e25548-9861-4450-873e-117807aab0f3"
      },
      "execution_count": 28,
      "outputs": [
        {
          "output_type": "stream",
          "name": "stdout",
          "text": [
            "請輸入一個整數:299999\n",
            "輸入錯誤\n"
          ]
        }
      ]
    },
    {
      "cell_type": "code",
      "source": [],
      "metadata": {
        "id": "rQSyHbIWqinD"
      },
      "execution_count": null,
      "outputs": []
    }
  ]
}